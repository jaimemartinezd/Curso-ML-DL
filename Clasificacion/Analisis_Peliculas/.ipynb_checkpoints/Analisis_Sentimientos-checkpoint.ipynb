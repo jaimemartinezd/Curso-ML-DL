{
 "cells": [
  {
   "cell_type": "code",
   "execution_count": 3,
   "id": "9eab1fa7-5646-4e86-8001-9e1fe0872a77",
   "metadata": {},
   "outputs": [
    {
     "data": {
      "text/html": [
       "<div>\n",
       "<style scoped>\n",
       "    .dataframe tbody tr th:only-of-type {\n",
       "        vertical-align: middle;\n",
       "    }\n",
       "\n",
       "    .dataframe tbody tr th {\n",
       "        vertical-align: top;\n",
       "    }\n",
       "\n",
       "    .dataframe thead th {\n",
       "        text-align: right;\n",
       "    }\n",
       "</style>\n",
       "<table border=\"1\" class=\"dataframe\">\n",
       "  <thead>\n",
       "    <tr style=\"text-align: right;\">\n",
       "      <th></th>\n",
       "      <th>text</th>\n",
       "      <th>sentiment</th>\n",
       "    </tr>\n",
       "  </thead>\n",
       "  <tbody>\n",
       "    <tr>\n",
       "      <th>0</th>\n",
       "      <td>Now, I won't deny that when I purchased this o...</td>\n",
       "      <td>neg</td>\n",
       "    </tr>\n",
       "    <tr>\n",
       "      <th>1</th>\n",
       "      <td>The saddest thing about this \"tribute\" is that...</td>\n",
       "      <td>neg</td>\n",
       "    </tr>\n",
       "    <tr>\n",
       "      <th>2</th>\n",
       "      <td>Last night I decided to watch the prequel or s...</td>\n",
       "      <td>neg</td>\n",
       "    </tr>\n",
       "    <tr>\n",
       "      <th>3</th>\n",
       "      <td>I have to admit that i liked the first half of...</td>\n",
       "      <td>neg</td>\n",
       "    </tr>\n",
       "    <tr>\n",
       "      <th>4</th>\n",
       "      <td>I was not impressed about this film especially...</td>\n",
       "      <td>neg</td>\n",
       "    </tr>\n",
       "    <tr>\n",
       "      <th>...</th>\n",
       "      <td>...</td>\n",
       "      <td>...</td>\n",
       "    </tr>\n",
       "    <tr>\n",
       "      <th>24995</th>\n",
       "      <td>This film is fun, if your a person who likes a...</td>\n",
       "      <td>pos</td>\n",
       "    </tr>\n",
       "    <tr>\n",
       "      <th>24996</th>\n",
       "      <td>After seeing this film I feel like I know just...</td>\n",
       "      <td>pos</td>\n",
       "    </tr>\n",
       "    <tr>\n",
       "      <th>24997</th>\n",
       "      <td>first this deserves about 5 stars due to actin...</td>\n",
       "      <td>neg</td>\n",
       "    </tr>\n",
       "    <tr>\n",
       "      <th>24998</th>\n",
       "      <td>If you like films that ramble with little plot...</td>\n",
       "      <td>neg</td>\n",
       "    </tr>\n",
       "    <tr>\n",
       "      <th>24999</th>\n",
       "      <td>As interesting as a sheet of cardboard, this d...</td>\n",
       "      <td>neg</td>\n",
       "    </tr>\n",
       "  </tbody>\n",
       "</table>\n",
       "<p>25000 rows × 2 columns</p>\n",
       "</div>"
      ],
      "text/plain": [
       "                                                    text sentiment\n",
       "0      Now, I won't deny that when I purchased this o...       neg\n",
       "1      The saddest thing about this \"tribute\" is that...       neg\n",
       "2      Last night I decided to watch the prequel or s...       neg\n",
       "3      I have to admit that i liked the first half of...       neg\n",
       "4      I was not impressed about this film especially...       neg\n",
       "...                                                  ...       ...\n",
       "24995  This film is fun, if your a person who likes a...       pos\n",
       "24996  After seeing this film I feel like I know just...       pos\n",
       "24997  first this deserves about 5 stars due to actin...       neg\n",
       "24998  If you like films that ramble with little plot...       neg\n",
       "24999  As interesting as a sheet of cardboard, this d...       neg\n",
       "\n",
       "[25000 rows x 2 columns]"
      ]
     },
     "execution_count": 3,
     "metadata": {},
     "output_type": "execute_result"
    }
   ],
   "source": [
    "import pandas as pd\n",
    "db_train = pd.read_csv('peliculas_sentimiento/train.csv')\n",
    "db_test = pd.read_csv('peliculas_sentimiento/test.csv')\n",
    "db_train"
   ]
  },
  {
   "cell_type": "markdown",
   "id": "bc9da017-d8f5-4e98-b8b2-0a46af7764c0",
   "metadata": {},
   "source": [
    "# Preprocesa los datos"
   ]
  },
  {
   "cell_type": "code",
   "execution_count": 4,
   "id": "b793c681-434d-4a19-9983-55d59479127e",
   "metadata": {},
   "outputs": [],
   "source": [
    "def process_opinions(text):\n",
    "    text = text.lower() # Pone todo a minusculas\n",
    "    return list(set(text.split())) # Elimina palabras repetidas y divide el texto en palabras\n",
    "\n",
    "db_train['words'] = db_train['text'].apply(process_opinions)"
   ]
  },
  {
   "cell_type": "markdown",
   "id": "0fb70794-f579-4b3e-8fa3-a8f7c0e0ace4",
   "metadata": {},
   "source": [
    "# Creamos el modelo y lo probamos"
   ]
  },
  {
   "cell_type": "code",
   "execution_count": 5,
   "id": "f2bacf8b-0602-4ebe-a502-6e16b0c1ccb3",
   "metadata": {},
   "outputs": [],
   "source": [
    "from sklearn.feature_extraction.text import CountVectorizer\n",
    "from sklearn.model_selection import train_test_split\n",
    "from sklearn.naive_bayes import MultinomialNB\n",
    "from sklearn.metrics import accuracy_score, confusion_matrix, classification_report\n",
    "\n",
    "vectorizer = CountVectorizer()\n",
    "\n",
    "db_train['words_text'] = db_train['words'].apply(lambda words: ' '.join(words)) # Convierte en texto plano concatenando las palabras con espacios.\n",
    "X = vectorizer.fit_transform(db_train['words_text']) # Convierte el texto en una matriz de características numéricas.\n",
    "y = db_train['sentiment']\n",
    "X_predict = vectorizer.transform(db_test['text'])  # Vectorizamos los datos de prueba\n",
    "y_predict = db_test['sentiment']  # Etiquetas reales de sentimiento\n",
    "X_train, X_test, y_train, y_test = train_test_split(X, y, test_size=0.2, random_state=42)"
   ]
  },
  {
   "cell_type": "code",
   "execution_count": 6,
   "id": "d66fe3e1-5944-4b80-ab35-0dbe8fc4286f",
   "metadata": {},
   "outputs": [],
   "source": [
    "NB_opinions = MultinomialNB()\n",
    "NB_opinions.fit(X, y)\n",
    "\n",
    "def predict_nb(opinion):\n",
    "    opinion_vector = vectorizer.transform([opinion]) # Convierte la opinión en una representación numérica compatible con el modelo.\n",
    "    if (NB_opinions.predict_proba(opinion_vector)[0][1] >= 0.5): # Se toma la probabilidad de que la opinión sea positiva (0 - neg, 1 - pos)\n",
    "        return  f\"{NB_opinions.predict_proba(opinion_vector)[0][1]} -> positiva\"\n",
    "    else: return f\"{NB_opinions.predict_proba(opinion_vector)[0][1]} -> negativa\""
   ]
  },
  {
   "cell_type": "code",
   "execution_count": 7,
   "id": "17373eba-02a5-46ac-95e0-a0914d97449e",
   "metadata": {},
   "outputs": [
    {
     "name": "stdout",
     "output_type": "stream",
     "text": [
      "Accuracy: 0.8101\n"
     ]
    }
   ],
   "source": [
    "y_pred = NB_opinions.predict(X_predict)\n",
    "accuracy = accuracy_score(y_predict, y_pred)\n",
    "print(f'Accuracy: {accuracy:.4f}')"
   ]
  },
  {
   "cell_type": "code",
   "execution_count": 8,
   "id": "3c14c719-bb2b-4d66-9509-a65129319684",
   "metadata": {},
   "outputs": [
    {
     "name": "stdout",
     "output_type": "stream",
     "text": [
      "0.4145413911930768 -> negativa\n"
     ]
    }
   ],
   "source": [
    "print(predict_nb(\"It was a good movie, but i will not watch it again\"))"
   ]
  }
 ],
 "metadata": {
  "kernelspec": {
   "display_name": "Python 3 (ipykernel)",
   "language": "python",
   "name": "python3"
  },
  "language_info": {
   "codemirror_mode": {
    "name": "ipython",
    "version": 3
   },
   "file_extension": ".py",
   "mimetype": "text/x-python",
   "name": "python",
   "nbconvert_exporter": "python",
   "pygments_lexer": "ipython3",
   "version": "3.12.7"
  }
 },
 "nbformat": 4,
 "nbformat_minor": 5
}

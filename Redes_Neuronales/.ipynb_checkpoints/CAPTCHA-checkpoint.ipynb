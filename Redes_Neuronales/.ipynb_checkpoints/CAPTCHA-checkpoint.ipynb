{
 "cells": [
  {
   "cell_type": "code",
   "execution_count": 2,
   "id": "d0dd0c6d-3618-4c80-be72-337156cb6a42",
   "metadata": {},
   "outputs": [
    {
     "name": "stdout",
     "output_type": "stream",
     "text": [
      "Ejemplo de etiquetas:\n",
      "   Id  Label\n",
      "0   0  24706\n",
      "1   1  80344\n",
      "2   2  76907\n",
      "3   3  83941\n",
      "4   4   9411\n"
     ]
    }
   ],
   "source": [
    "# Importamos las librerías necesarias\n",
    "import os\n",
    "import pandas as pd\n",
    "import tensorflow as tf\n",
    "from tensorflow.keras.preprocessing.image import load_img, img_to_array\n",
    "\n",
    "# Ruta a la carpeta 'train' y al archivo 'train.csv'\n",
    "data_dir = 'captcha/train'\n",
    "csv_path = 'captcha/train.csv'\n",
    "\n",
    "# Cargamos las etiquetas desde el archivo CSV\n",
    "labels_df = pd.read_csv(csv_path)\n",
    "\n",
    "# Mostramos las primeras filas para verificar\n",
    "print(\"Ejemplo de etiquetas:\")\n",
    "print(labels_df.head())"
   ]
  },
  {
   "cell_type": "code",
   "execution_count": 10,
   "id": "0e8f4d3d-aa04-4c69-a309-fe61d723ccf2",
   "metadata": {},
   "outputs": [
    {
     "name": "stdout",
     "output_type": "stream",
     "text": [
      "X shape: (10000, 50, 100, 1)\n",
      "y shape: (10000, 6)\n"
     ]
    }
   ],
   "source": [
    "import numpy as np\n",
    "from tensorflow.keras.preprocessing.image import load_img, img_to_array\n",
    "\n",
    "# Parámetros\n",
    "img_height, img_width = 50, 100\n",
    "num_channels = 1\n",
    "max_length = 6\n",
    "characters = '0123456789'\n",
    "char_to_index = {char: idx for idx, char in enumerate(characters)}\n",
    "num_classes = len(characters)\n",
    "\n",
    "# Función para codificar etiqueta (string) en lista de índices\n",
    "def encode_label(label):\n",
    "    return [char_to_index[c] for c in str(label).zfill(max_length)]\n",
    "\n",
    "# Cargar imágenes y etiquetas\n",
    "images = []\n",
    "labels = []\n",
    "\n",
    "for _, row in labels_df.iterrows():\n",
    "    # Convertimos el Id a un nombre de archivo de 5 dígitos con ceros a la izquierda\n",
    "    filename = f\"{int(row['Id']):05d}.png\"\n",
    "    img_path = os.path.join(data_dir, filename)\n",
    "\n",
    "    try:\n",
    "        # Cargamos la imagen en escala de grises y la redimensionamos\n",
    "        img = load_img(img_path, color_mode='grayscale', target_size=(img_height, img_width))\n",
    "        img_array = img_to_array(img) / 255.0\n",
    "        images.append(img_array)\n",
    "\n",
    "        # Codificamos la etiqueta\n",
    "        label = encode_label(row['Label'])\n",
    "        labels.append(label)\n",
    "    except Exception as e:\n",
    "        print(f\"Error cargando {img_path}: {e}\")\n",
    "\n",
    "# Convertimos a arrays numpy\n",
    "X = np.array(images)\n",
    "y = np.array(labels)\n",
    "\n",
    "print(\"X shape:\", X.shape)\n",
    "print(\"y shape:\", y.shape)"
   ]
  },
  {
   "cell_type": "code",
   "execution_count": 4,
   "id": "4ae042f0-da55-4317-926a-fdfc6ea10c27",
   "metadata": {},
   "outputs": [
    {
     "data": {
      "text/html": [
       "<pre style=\"white-space:pre;overflow-x:auto;line-height:normal;font-family:Menlo,'DejaVu Sans Mono',consolas,'Courier New',monospace\"><span style=\"font-weight: bold\">Model: \"captcha_cnn\"</span>\n",
       "</pre>\n"
      ],
      "text/plain": [
       "\u001b[1mModel: \"captcha_cnn\"\u001b[0m\n"
      ]
     },
     "metadata": {},
     "output_type": "display_data"
    },
    {
     "data": {
      "text/html": [
       "<pre style=\"white-space:pre;overflow-x:auto;line-height:normal;font-family:Menlo,'DejaVu Sans Mono',consolas,'Courier New',monospace\">┏━━━━━━━━━━━━━━━━━━━━━━━━━━━━━━━┳━━━━━━━━━━━━━━━━━━━━━━━━━━━┳━━━━━━━━━━━━━━━━━┳━━━━━━━━━━━━━━━━━━━━━━━━━━━━┓\n",
       "┃<span style=\"font-weight: bold\"> Layer (type)                  </span>┃<span style=\"font-weight: bold\"> Output Shape              </span>┃<span style=\"font-weight: bold\">         Param # </span>┃<span style=\"font-weight: bold\"> Connected to               </span>┃\n",
       "┡━━━━━━━━━━━━━━━━━━━━━━━━━━━━━━━╇━━━━━━━━━━━━━━━━━━━━━━━━━━━╇━━━━━━━━━━━━━━━━━╇━━━━━━━━━━━━━━━━━━━━━━━━━━━━┩\n",
       "│ input_layer (<span style=\"color: #0087ff; text-decoration-color: #0087ff\">InputLayer</span>)      │ (<span style=\"color: #00d7ff; text-decoration-color: #00d7ff\">None</span>, <span style=\"color: #00af00; text-decoration-color: #00af00\">50</span>, <span style=\"color: #00af00; text-decoration-color: #00af00\">100</span>, <span style=\"color: #00af00; text-decoration-color: #00af00\">1</span>)        │               <span style=\"color: #00af00; text-decoration-color: #00af00\">0</span> │ -                          │\n",
       "├───────────────────────────────┼───────────────────────────┼─────────────────┼────────────────────────────┤\n",
       "│ conv2d (<span style=\"color: #0087ff; text-decoration-color: #0087ff\">Conv2D</span>)               │ (<span style=\"color: #00d7ff; text-decoration-color: #00d7ff\">None</span>, <span style=\"color: #00af00; text-decoration-color: #00af00\">50</span>, <span style=\"color: #00af00; text-decoration-color: #00af00\">100</span>, <span style=\"color: #00af00; text-decoration-color: #00af00\">32</span>)       │             <span style=\"color: #00af00; text-decoration-color: #00af00\">320</span> │ input_layer[<span style=\"color: #00af00; text-decoration-color: #00af00\">0</span>][<span style=\"color: #00af00; text-decoration-color: #00af00\">0</span>]          │\n",
       "├───────────────────────────────┼───────────────────────────┼─────────────────┼────────────────────────────┤\n",
       "│ max_pooling2d (<span style=\"color: #0087ff; text-decoration-color: #0087ff\">MaxPooling2D</span>)  │ (<span style=\"color: #00d7ff; text-decoration-color: #00d7ff\">None</span>, <span style=\"color: #00af00; text-decoration-color: #00af00\">25</span>, <span style=\"color: #00af00; text-decoration-color: #00af00\">50</span>, <span style=\"color: #00af00; text-decoration-color: #00af00\">32</span>)        │               <span style=\"color: #00af00; text-decoration-color: #00af00\">0</span> │ conv2d[<span style=\"color: #00af00; text-decoration-color: #00af00\">0</span>][<span style=\"color: #00af00; text-decoration-color: #00af00\">0</span>]               │\n",
       "├───────────────────────────────┼───────────────────────────┼─────────────────┼────────────────────────────┤\n",
       "│ conv2d_1 (<span style=\"color: #0087ff; text-decoration-color: #0087ff\">Conv2D</span>)             │ (<span style=\"color: #00d7ff; text-decoration-color: #00d7ff\">None</span>, <span style=\"color: #00af00; text-decoration-color: #00af00\">25</span>, <span style=\"color: #00af00; text-decoration-color: #00af00\">50</span>, <span style=\"color: #00af00; text-decoration-color: #00af00\">64</span>)        │          <span style=\"color: #00af00; text-decoration-color: #00af00\">18,496</span> │ max_pooling2d[<span style=\"color: #00af00; text-decoration-color: #00af00\">0</span>][<span style=\"color: #00af00; text-decoration-color: #00af00\">0</span>]        │\n",
       "├───────────────────────────────┼───────────────────────────┼─────────────────┼────────────────────────────┤\n",
       "│ max_pooling2d_1               │ (<span style=\"color: #00d7ff; text-decoration-color: #00d7ff\">None</span>, <span style=\"color: #00af00; text-decoration-color: #00af00\">12</span>, <span style=\"color: #00af00; text-decoration-color: #00af00\">25</span>, <span style=\"color: #00af00; text-decoration-color: #00af00\">64</span>)        │               <span style=\"color: #00af00; text-decoration-color: #00af00\">0</span> │ conv2d_1[<span style=\"color: #00af00; text-decoration-color: #00af00\">0</span>][<span style=\"color: #00af00; text-decoration-color: #00af00\">0</span>]             │\n",
       "│ (<span style=\"color: #0087ff; text-decoration-color: #0087ff\">MaxPooling2D</span>)                │                           │                 │                            │\n",
       "├───────────────────────────────┼───────────────────────────┼─────────────────┼────────────────────────────┤\n",
       "│ conv2d_2 (<span style=\"color: #0087ff; text-decoration-color: #0087ff\">Conv2D</span>)             │ (<span style=\"color: #00d7ff; text-decoration-color: #00d7ff\">None</span>, <span style=\"color: #00af00; text-decoration-color: #00af00\">12</span>, <span style=\"color: #00af00; text-decoration-color: #00af00\">25</span>, <span style=\"color: #00af00; text-decoration-color: #00af00\">128</span>)       │          <span style=\"color: #00af00; text-decoration-color: #00af00\">73,856</span> │ max_pooling2d_1[<span style=\"color: #00af00; text-decoration-color: #00af00\">0</span>][<span style=\"color: #00af00; text-decoration-color: #00af00\">0</span>]      │\n",
       "├───────────────────────────────┼───────────────────────────┼─────────────────┼────────────────────────────┤\n",
       "│ max_pooling2d_2               │ (<span style=\"color: #00d7ff; text-decoration-color: #00d7ff\">None</span>, <span style=\"color: #00af00; text-decoration-color: #00af00\">6</span>, <span style=\"color: #00af00; text-decoration-color: #00af00\">12</span>, <span style=\"color: #00af00; text-decoration-color: #00af00\">128</span>)        │               <span style=\"color: #00af00; text-decoration-color: #00af00\">0</span> │ conv2d_2[<span style=\"color: #00af00; text-decoration-color: #00af00\">0</span>][<span style=\"color: #00af00; text-decoration-color: #00af00\">0</span>]             │\n",
       "│ (<span style=\"color: #0087ff; text-decoration-color: #0087ff\">MaxPooling2D</span>)                │                           │                 │                            │\n",
       "├───────────────────────────────┼───────────────────────────┼─────────────────┼────────────────────────────┤\n",
       "│ flatten (<span style=\"color: #0087ff; text-decoration-color: #0087ff\">Flatten</span>)             │ (<span style=\"color: #00d7ff; text-decoration-color: #00d7ff\">None</span>, <span style=\"color: #00af00; text-decoration-color: #00af00\">9216</span>)              │               <span style=\"color: #00af00; text-decoration-color: #00af00\">0</span> │ max_pooling2d_2[<span style=\"color: #00af00; text-decoration-color: #00af00\">0</span>][<span style=\"color: #00af00; text-decoration-color: #00af00\">0</span>]      │\n",
       "├───────────────────────────────┼───────────────────────────┼─────────────────┼────────────────────────────┤\n",
       "│ dense (<span style=\"color: #0087ff; text-decoration-color: #0087ff\">Dense</span>)                 │ (<span style=\"color: #00d7ff; text-decoration-color: #00d7ff\">None</span>, <span style=\"color: #00af00; text-decoration-color: #00af00\">512</span>)               │       <span style=\"color: #00af00; text-decoration-color: #00af00\">4,719,104</span> │ flatten[<span style=\"color: #00af00; text-decoration-color: #00af00\">0</span>][<span style=\"color: #00af00; text-decoration-color: #00af00\">0</span>]              │\n",
       "├───────────────────────────────┼───────────────────────────┼─────────────────┼────────────────────────────┤\n",
       "│ dropout (<span style=\"color: #0087ff; text-decoration-color: #0087ff\">Dropout</span>)             │ (<span style=\"color: #00d7ff; text-decoration-color: #00d7ff\">None</span>, <span style=\"color: #00af00; text-decoration-color: #00af00\">512</span>)               │               <span style=\"color: #00af00; text-decoration-color: #00af00\">0</span> │ dense[<span style=\"color: #00af00; text-decoration-color: #00af00\">0</span>][<span style=\"color: #00af00; text-decoration-color: #00af00\">0</span>]                │\n",
       "├───────────────────────────────┼───────────────────────────┼─────────────────┼────────────────────────────┤\n",
       "│ char_0 (<span style=\"color: #0087ff; text-decoration-color: #0087ff\">Dense</span>)                │ (<span style=\"color: #00d7ff; text-decoration-color: #00d7ff\">None</span>, <span style=\"color: #00af00; text-decoration-color: #00af00\">10</span>)                │           <span style=\"color: #00af00; text-decoration-color: #00af00\">5,130</span> │ dropout[<span style=\"color: #00af00; text-decoration-color: #00af00\">0</span>][<span style=\"color: #00af00; text-decoration-color: #00af00\">0</span>]              │\n",
       "├───────────────────────────────┼───────────────────────────┼─────────────────┼────────────────────────────┤\n",
       "│ char_1 (<span style=\"color: #0087ff; text-decoration-color: #0087ff\">Dense</span>)                │ (<span style=\"color: #00d7ff; text-decoration-color: #00d7ff\">None</span>, <span style=\"color: #00af00; text-decoration-color: #00af00\">10</span>)                │           <span style=\"color: #00af00; text-decoration-color: #00af00\">5,130</span> │ dropout[<span style=\"color: #00af00; text-decoration-color: #00af00\">0</span>][<span style=\"color: #00af00; text-decoration-color: #00af00\">0</span>]              │\n",
       "├───────────────────────────────┼───────────────────────────┼─────────────────┼────────────────────────────┤\n",
       "│ char_2 (<span style=\"color: #0087ff; text-decoration-color: #0087ff\">Dense</span>)                │ (<span style=\"color: #00d7ff; text-decoration-color: #00d7ff\">None</span>, <span style=\"color: #00af00; text-decoration-color: #00af00\">10</span>)                │           <span style=\"color: #00af00; text-decoration-color: #00af00\">5,130</span> │ dropout[<span style=\"color: #00af00; text-decoration-color: #00af00\">0</span>][<span style=\"color: #00af00; text-decoration-color: #00af00\">0</span>]              │\n",
       "├───────────────────────────────┼───────────────────────────┼─────────────────┼────────────────────────────┤\n",
       "│ char_3 (<span style=\"color: #0087ff; text-decoration-color: #0087ff\">Dense</span>)                │ (<span style=\"color: #00d7ff; text-decoration-color: #00d7ff\">None</span>, <span style=\"color: #00af00; text-decoration-color: #00af00\">10</span>)                │           <span style=\"color: #00af00; text-decoration-color: #00af00\">5,130</span> │ dropout[<span style=\"color: #00af00; text-decoration-color: #00af00\">0</span>][<span style=\"color: #00af00; text-decoration-color: #00af00\">0</span>]              │\n",
       "├───────────────────────────────┼───────────────────────────┼─────────────────┼────────────────────────────┤\n",
       "│ char_4 (<span style=\"color: #0087ff; text-decoration-color: #0087ff\">Dense</span>)                │ (<span style=\"color: #00d7ff; text-decoration-color: #00d7ff\">None</span>, <span style=\"color: #00af00; text-decoration-color: #00af00\">10</span>)                │           <span style=\"color: #00af00; text-decoration-color: #00af00\">5,130</span> │ dropout[<span style=\"color: #00af00; text-decoration-color: #00af00\">0</span>][<span style=\"color: #00af00; text-decoration-color: #00af00\">0</span>]              │\n",
       "├───────────────────────────────┼───────────────────────────┼─────────────────┼────────────────────────────┤\n",
       "│ char_5 (<span style=\"color: #0087ff; text-decoration-color: #0087ff\">Dense</span>)                │ (<span style=\"color: #00d7ff; text-decoration-color: #00d7ff\">None</span>, <span style=\"color: #00af00; text-decoration-color: #00af00\">10</span>)                │           <span style=\"color: #00af00; text-decoration-color: #00af00\">5,130</span> │ dropout[<span style=\"color: #00af00; text-decoration-color: #00af00\">0</span>][<span style=\"color: #00af00; text-decoration-color: #00af00\">0</span>]              │\n",
       "└───────────────────────────────┴───────────────────────────┴─────────────────┴────────────────────────────┘\n",
       "</pre>\n"
      ],
      "text/plain": [
       "┏━━━━━━━━━━━━━━━━━━━━━━━━━━━━━━━┳━━━━━━━━━━━━━━━━━━━━━━━━━━━┳━━━━━━━━━━━━━━━━━┳━━━━━━━━━━━━━━━━━━━━━━━━━━━━┓\n",
       "┃\u001b[1m \u001b[0m\u001b[1mLayer (type)                 \u001b[0m\u001b[1m \u001b[0m┃\u001b[1m \u001b[0m\u001b[1mOutput Shape             \u001b[0m\u001b[1m \u001b[0m┃\u001b[1m \u001b[0m\u001b[1m        Param #\u001b[0m\u001b[1m \u001b[0m┃\u001b[1m \u001b[0m\u001b[1mConnected to              \u001b[0m\u001b[1m \u001b[0m┃\n",
       "┡━━━━━━━━━━━━━━━━━━━━━━━━━━━━━━━╇━━━━━━━━━━━━━━━━━━━━━━━━━━━╇━━━━━━━━━━━━━━━━━╇━━━━━━━━━━━━━━━━━━━━━━━━━━━━┩\n",
       "│ input_layer (\u001b[38;5;33mInputLayer\u001b[0m)      │ (\u001b[38;5;45mNone\u001b[0m, \u001b[38;5;34m50\u001b[0m, \u001b[38;5;34m100\u001b[0m, \u001b[38;5;34m1\u001b[0m)        │               \u001b[38;5;34m0\u001b[0m │ -                          │\n",
       "├───────────────────────────────┼───────────────────────────┼─────────────────┼────────────────────────────┤\n",
       "│ conv2d (\u001b[38;5;33mConv2D\u001b[0m)               │ (\u001b[38;5;45mNone\u001b[0m, \u001b[38;5;34m50\u001b[0m, \u001b[38;5;34m100\u001b[0m, \u001b[38;5;34m32\u001b[0m)       │             \u001b[38;5;34m320\u001b[0m │ input_layer[\u001b[38;5;34m0\u001b[0m][\u001b[38;5;34m0\u001b[0m]          │\n",
       "├───────────────────────────────┼───────────────────────────┼─────────────────┼────────────────────────────┤\n",
       "│ max_pooling2d (\u001b[38;5;33mMaxPooling2D\u001b[0m)  │ (\u001b[38;5;45mNone\u001b[0m, \u001b[38;5;34m25\u001b[0m, \u001b[38;5;34m50\u001b[0m, \u001b[38;5;34m32\u001b[0m)        │               \u001b[38;5;34m0\u001b[0m │ conv2d[\u001b[38;5;34m0\u001b[0m][\u001b[38;5;34m0\u001b[0m]               │\n",
       "├───────────────────────────────┼───────────────────────────┼─────────────────┼────────────────────────────┤\n",
       "│ conv2d_1 (\u001b[38;5;33mConv2D\u001b[0m)             │ (\u001b[38;5;45mNone\u001b[0m, \u001b[38;5;34m25\u001b[0m, \u001b[38;5;34m50\u001b[0m, \u001b[38;5;34m64\u001b[0m)        │          \u001b[38;5;34m18,496\u001b[0m │ max_pooling2d[\u001b[38;5;34m0\u001b[0m][\u001b[38;5;34m0\u001b[0m]        │\n",
       "├───────────────────────────────┼───────────────────────────┼─────────────────┼────────────────────────────┤\n",
       "│ max_pooling2d_1               │ (\u001b[38;5;45mNone\u001b[0m, \u001b[38;5;34m12\u001b[0m, \u001b[38;5;34m25\u001b[0m, \u001b[38;5;34m64\u001b[0m)        │               \u001b[38;5;34m0\u001b[0m │ conv2d_1[\u001b[38;5;34m0\u001b[0m][\u001b[38;5;34m0\u001b[0m]             │\n",
       "│ (\u001b[38;5;33mMaxPooling2D\u001b[0m)                │                           │                 │                            │\n",
       "├───────────────────────────────┼───────────────────────────┼─────────────────┼────────────────────────────┤\n",
       "│ conv2d_2 (\u001b[38;5;33mConv2D\u001b[0m)             │ (\u001b[38;5;45mNone\u001b[0m, \u001b[38;5;34m12\u001b[0m, \u001b[38;5;34m25\u001b[0m, \u001b[38;5;34m128\u001b[0m)       │          \u001b[38;5;34m73,856\u001b[0m │ max_pooling2d_1[\u001b[38;5;34m0\u001b[0m][\u001b[38;5;34m0\u001b[0m]      │\n",
       "├───────────────────────────────┼───────────────────────────┼─────────────────┼────────────────────────────┤\n",
       "│ max_pooling2d_2               │ (\u001b[38;5;45mNone\u001b[0m, \u001b[38;5;34m6\u001b[0m, \u001b[38;5;34m12\u001b[0m, \u001b[38;5;34m128\u001b[0m)        │               \u001b[38;5;34m0\u001b[0m │ conv2d_2[\u001b[38;5;34m0\u001b[0m][\u001b[38;5;34m0\u001b[0m]             │\n",
       "│ (\u001b[38;5;33mMaxPooling2D\u001b[0m)                │                           │                 │                            │\n",
       "├───────────────────────────────┼───────────────────────────┼─────────────────┼────────────────────────────┤\n",
       "│ flatten (\u001b[38;5;33mFlatten\u001b[0m)             │ (\u001b[38;5;45mNone\u001b[0m, \u001b[38;5;34m9216\u001b[0m)              │               \u001b[38;5;34m0\u001b[0m │ max_pooling2d_2[\u001b[38;5;34m0\u001b[0m][\u001b[38;5;34m0\u001b[0m]      │\n",
       "├───────────────────────────────┼───────────────────────────┼─────────────────┼────────────────────────────┤\n",
       "│ dense (\u001b[38;5;33mDense\u001b[0m)                 │ (\u001b[38;5;45mNone\u001b[0m, \u001b[38;5;34m512\u001b[0m)               │       \u001b[38;5;34m4,719,104\u001b[0m │ flatten[\u001b[38;5;34m0\u001b[0m][\u001b[38;5;34m0\u001b[0m]              │\n",
       "├───────────────────────────────┼───────────────────────────┼─────────────────┼────────────────────────────┤\n",
       "│ dropout (\u001b[38;5;33mDropout\u001b[0m)             │ (\u001b[38;5;45mNone\u001b[0m, \u001b[38;5;34m512\u001b[0m)               │               \u001b[38;5;34m0\u001b[0m │ dense[\u001b[38;5;34m0\u001b[0m][\u001b[38;5;34m0\u001b[0m]                │\n",
       "├───────────────────────────────┼───────────────────────────┼─────────────────┼────────────────────────────┤\n",
       "│ char_0 (\u001b[38;5;33mDense\u001b[0m)                │ (\u001b[38;5;45mNone\u001b[0m, \u001b[38;5;34m10\u001b[0m)                │           \u001b[38;5;34m5,130\u001b[0m │ dropout[\u001b[38;5;34m0\u001b[0m][\u001b[38;5;34m0\u001b[0m]              │\n",
       "├───────────────────────────────┼───────────────────────────┼─────────────────┼────────────────────────────┤\n",
       "│ char_1 (\u001b[38;5;33mDense\u001b[0m)                │ (\u001b[38;5;45mNone\u001b[0m, \u001b[38;5;34m10\u001b[0m)                │           \u001b[38;5;34m5,130\u001b[0m │ dropout[\u001b[38;5;34m0\u001b[0m][\u001b[38;5;34m0\u001b[0m]              │\n",
       "├───────────────────────────────┼───────────────────────────┼─────────────────┼────────────────────────────┤\n",
       "│ char_2 (\u001b[38;5;33mDense\u001b[0m)                │ (\u001b[38;5;45mNone\u001b[0m, \u001b[38;5;34m10\u001b[0m)                │           \u001b[38;5;34m5,130\u001b[0m │ dropout[\u001b[38;5;34m0\u001b[0m][\u001b[38;5;34m0\u001b[0m]              │\n",
       "├───────────────────────────────┼───────────────────────────┼─────────────────┼────────────────────────────┤\n",
       "│ char_3 (\u001b[38;5;33mDense\u001b[0m)                │ (\u001b[38;5;45mNone\u001b[0m, \u001b[38;5;34m10\u001b[0m)                │           \u001b[38;5;34m5,130\u001b[0m │ dropout[\u001b[38;5;34m0\u001b[0m][\u001b[38;5;34m0\u001b[0m]              │\n",
       "├───────────────────────────────┼───────────────────────────┼─────────────────┼────────────────────────────┤\n",
       "│ char_4 (\u001b[38;5;33mDense\u001b[0m)                │ (\u001b[38;5;45mNone\u001b[0m, \u001b[38;5;34m10\u001b[0m)                │           \u001b[38;5;34m5,130\u001b[0m │ dropout[\u001b[38;5;34m0\u001b[0m][\u001b[38;5;34m0\u001b[0m]              │\n",
       "├───────────────────────────────┼───────────────────────────┼─────────────────┼────────────────────────────┤\n",
       "│ char_5 (\u001b[38;5;33mDense\u001b[0m)                │ (\u001b[38;5;45mNone\u001b[0m, \u001b[38;5;34m10\u001b[0m)                │           \u001b[38;5;34m5,130\u001b[0m │ dropout[\u001b[38;5;34m0\u001b[0m][\u001b[38;5;34m0\u001b[0m]              │\n",
       "└───────────────────────────────┴───────────────────────────┴─────────────────┴────────────────────────────┘\n"
      ]
     },
     "metadata": {},
     "output_type": "display_data"
    },
    {
     "data": {
      "text/html": [
       "<pre style=\"white-space:pre;overflow-x:auto;line-height:normal;font-family:Menlo,'DejaVu Sans Mono',consolas,'Courier New',monospace\"><span style=\"font-weight: bold\"> Total params: </span><span style=\"color: #00af00; text-decoration-color: #00af00\">4,842,556</span> (18.47 MB)\n",
       "</pre>\n"
      ],
      "text/plain": [
       "\u001b[1m Total params: \u001b[0m\u001b[38;5;34m4,842,556\u001b[0m (18.47 MB)\n"
      ]
     },
     "metadata": {},
     "output_type": "display_data"
    },
    {
     "data": {
      "text/html": [
       "<pre style=\"white-space:pre;overflow-x:auto;line-height:normal;font-family:Menlo,'DejaVu Sans Mono',consolas,'Courier New',monospace\"><span style=\"font-weight: bold\"> Trainable params: </span><span style=\"color: #00af00; text-decoration-color: #00af00\">4,842,556</span> (18.47 MB)\n",
       "</pre>\n"
      ],
      "text/plain": [
       "\u001b[1m Trainable params: \u001b[0m\u001b[38;5;34m4,842,556\u001b[0m (18.47 MB)\n"
      ]
     },
     "metadata": {},
     "output_type": "display_data"
    },
    {
     "data": {
      "text/html": [
       "<pre style=\"white-space:pre;overflow-x:auto;line-height:normal;font-family:Menlo,'DejaVu Sans Mono',consolas,'Courier New',monospace\"><span style=\"font-weight: bold\"> Non-trainable params: </span><span style=\"color: #00af00; text-decoration-color: #00af00\">0</span> (0.00 B)\n",
       "</pre>\n"
      ],
      "text/plain": [
       "\u001b[1m Non-trainable params: \u001b[0m\u001b[38;5;34m0\u001b[0m (0.00 B)\n"
      ]
     },
     "metadata": {},
     "output_type": "display_data"
    }
   ],
   "source": [
    "def crear_cnn():\n",
    "    from tensorflow.keras import layers, models\n",
    "\n",
    "    input_shape = (img_height, img_width, num_channels)\n",
    "    inputs = tf.keras.Input(shape=input_shape)\n",
    "\n",
    "    x = layers.Conv2D(32, (3, 3), activation='relu', padding='same')(inputs)\n",
    "    x = layers.MaxPooling2D(pool_size=(2, 2))(x)\n",
    "\n",
    "    x = layers.Conv2D(64, (3, 3), activation='relu', padding='same')(x)\n",
    "    x = layers.MaxPooling2D(pool_size=(2, 2))(x)\n",
    "\n",
    "    x = layers.Conv2D(128, (3, 3), activation='relu', padding='same')(x)\n",
    "    x = layers.MaxPooling2D(pool_size=(2, 2))(x)\n",
    "\n",
    "    x = layers.Flatten()(x)\n",
    "    x = layers.Dense(512, activation='relu')(x)\n",
    "    x = layers.Dropout(0.5)(x)\n",
    "\n",
    "    # Una salida para cada carácter del CAPTCHA\n",
    "    outputs = []\n",
    "    for i in range(max_length):\n",
    "        outputs.append(layers.Dense(num_classes, activation='softmax', name=f'char_{i}')(x))\n",
    "\n",
    "    model = models.Model(inputs=inputs, outputs=outputs, name='captcha_cnn')\n",
    "    return model\n",
    "\n",
    "# Crear el modelo\n",
    "model = crear_cnn()\n",
    "model.summary()"
   ]
  },
  {
   "cell_type": "code",
   "execution_count": 11,
   "id": "5dcea212-5670-4e99-b6f3-e587f16a1c2b",
   "metadata": {},
   "outputs": [
    {
     "name": "stdout",
     "output_type": "stream",
     "text": [
      "y_onehot[0].shape = (10000, 10)\n",
      "y_onehot[1].shape = (10000, 10)\n",
      "y_onehot[2].shape = (10000, 10)\n",
      "y_onehot[3].shape = (10000, 10)\n",
      "y_onehot[4].shape = (10000, 10)\n",
      "y_onehot[5].shape = (10000, 10)\n"
     ]
    }
   ],
   "source": [
    "# Convertimos las etiquetas (enteros) en codificación one-hot\n",
    "y_onehot = []\n",
    "\n",
    "for i in range(max_length):\n",
    "    y_onehot.append(tf.keras.utils.to_categorical(y[:, i], num_classes=num_classes))\n",
    "\n",
    "# Verifica la forma\n",
    "for i in range(max_length):\n",
    "    print(f\"y_onehot[{i}].shape = {y_onehot[i].shape}\")"
   ]
  },
  {
   "cell_type": "code",
   "execution_count": 14,
   "id": "59b7f335-c460-430a-b8cb-b8576ef3f19a",
   "metadata": {},
   "outputs": [],
   "source": [
    "# Compilamos el modelo\n",
    "model.compile(\n",
    "    optimizer='adam',\n",
    "    loss=['categorical_crossentropy'] * max_length,\n",
    "    metrics=[['accuracy']] * max_length  # Aquí se asignan métricas por cada salida\n",
    ")"
   ]
  },
  {
   "cell_type": "code",
   "execution_count": 15,
   "id": "f2697540-9611-4c70-b42d-6a93a20aef54",
   "metadata": {},
   "outputs": [
    {
     "name": "stdout",
     "output_type": "stream",
     "text": [
      "Epoch 1/10\n",
      "\u001b[1m141/141\u001b[0m \u001b[32m━━━━━━━━━━━━━━━━━━━━\u001b[0m\u001b[37m\u001b[0m \u001b[1m46s\u001b[0m 259ms/step - char_0_accuracy: 0.9622 - char_0_loss: 0.1976 - char_1_accuracy: 0.1051 - char_1_loss: 2.3354 - char_2_accuracy: 0.0945 - char_2_loss: 2.3515 - char_3_accuracy: 0.0960 - char_3_loss: 2.3514 - char_4_accuracy: 0.0985 - char_4_loss: 2.3353 - char_5_accuracy: 0.0953 - char_5_loss: 2.3473 - loss: 11.9185 - val_char_0_accuracy: 1.0000 - val_char_0_loss: 0.0209 - val_char_1_accuracy: 0.1340 - val_char_1_loss: 2.3051 - val_char_2_accuracy: 0.0990 - val_char_2_loss: 2.3044 - val_char_3_accuracy: 0.0990 - val_char_3_loss: 2.3093 - val_char_4_accuracy: 0.1180 - val_char_4_loss: 2.3051 - val_char_5_accuracy: 0.1110 - val_char_5_loss: 2.3043 - val_loss: 11.5496\n",
      "Epoch 2/10\n",
      "\u001b[1m141/141\u001b[0m \u001b[32m━━━━━━━━━━━━━━━━━━━━\u001b[0m\u001b[37m\u001b[0m \u001b[1m35s\u001b[0m 249ms/step - char_0_accuracy: 1.0000 - char_0_loss: 0.0178 - char_1_accuracy: 0.1351 - char_1_loss: 2.2737 - char_2_accuracy: 0.1235 - char_2_loss: 2.2774 - char_3_accuracy: 0.1213 - char_3_loss: 2.2837 - char_4_accuracy: 0.1308 - char_4_loss: 2.2675 - char_5_accuracy: 0.1389 - char_5_loss: 2.2632 - loss: 11.3834 - val_char_0_accuracy: 1.0000 - val_char_0_loss: 1.4568e-05 - val_char_1_accuracy: 0.5320 - val_char_1_loss: 1.4381 - val_char_2_accuracy: 0.5090 - val_char_2_loss: 1.5631 - val_char_3_accuracy: 0.5070 - val_char_3_loss: 1.5284 - val_char_4_accuracy: 0.5840 - val_char_4_loss: 1.4077 - val_char_5_accuracy: 0.5810 - val_char_5_loss: 1.3103 - val_loss: 7.2568\n",
      "Epoch 3/10\n",
      "\u001b[1m141/141\u001b[0m \u001b[32m━━━━━━━━━━━━━━━━━━━━\u001b[0m\u001b[37m\u001b[0m \u001b[1m35s\u001b[0m 251ms/step - char_0_accuracy: 1.0000 - char_0_loss: 2.1187e-04 - char_1_accuracy: 0.5286 - char_1_loss: 1.3835 - char_2_accuracy: 0.4613 - char_2_loss: 1.5676 - char_3_accuracy: 0.4809 - char_3_loss: 1.5170 - char_4_accuracy: 0.5253 - char_4_loss: 1.4118 - char_5_accuracy: 0.5927 - char_5_loss: 1.2435 - loss: 7.1236 - val_char_0_accuracy: 1.0000 - val_char_0_loss: 5.4239e-04 - val_char_1_accuracy: 0.8370 - val_char_1_loss: 0.7179 - val_char_2_accuracy: 0.7370 - val_char_2_loss: 0.8898 - val_char_3_accuracy: 0.7640 - val_char_3_loss: 0.8806 - val_char_4_accuracy: 0.7670 - val_char_4_loss: 0.8226 - val_char_5_accuracy: 0.8340 - val_char_5_loss: 0.6249 - val_loss: 3.9463\n",
      "Epoch 4/10\n",
      "\u001b[1m141/141\u001b[0m \u001b[32m━━━━━━━━━━━━━━━━━━━━\u001b[0m\u001b[37m\u001b[0m \u001b[1m35s\u001b[0m 250ms/step - char_0_accuracy: 1.0000 - char_0_loss: 2.4691e-04 - char_1_accuracy: 0.7091 - char_1_loss: 0.8699 - char_2_accuracy: 0.6536 - char_2_loss: 1.0311 - char_3_accuracy: 0.6549 - char_3_loss: 1.0391 - char_4_accuracy: 0.6726 - char_4_loss: 0.9661 - char_5_accuracy: 0.7555 - char_5_loss: 0.7751 - loss: 4.6817 - val_char_0_accuracy: 1.0000 - val_char_0_loss: 3.5830e-06 - val_char_1_accuracy: 0.8590 - val_char_1_loss: 0.5169 - val_char_2_accuracy: 0.7980 - val_char_2_loss: 0.6696 - val_char_3_accuracy: 0.7910 - val_char_3_loss: 0.6554 - val_char_4_accuracy: 0.8190 - val_char_4_loss: 0.6123 - val_char_5_accuracy: 0.8830 - val_char_5_loss: 0.4498 - val_loss: 2.9180\n",
      "Epoch 5/10\n",
      "\u001b[1m141/141\u001b[0m \u001b[32m━━━━━━━━━━━━━━━━━━━━\u001b[0m\u001b[37m\u001b[0m \u001b[1m35s\u001b[0m 251ms/step - char_0_accuracy: 1.0000 - char_0_loss: 2.3173e-04 - char_1_accuracy: 0.7609 - char_1_loss: 0.7096 - char_2_accuracy: 0.7296 - char_2_loss: 0.8093 - char_3_accuracy: 0.7161 - char_3_loss: 0.8514 - char_4_accuracy: 0.7402 - char_4_loss: 0.7846 - char_5_accuracy: 0.8026 - char_5_loss: 0.6192 - loss: 3.7744 - val_char_0_accuracy: 1.0000 - val_char_0_loss: 8.3174e-04 - val_char_1_accuracy: 0.8590 - val_char_1_loss: 0.4702 - val_char_2_accuracy: 0.8290 - val_char_2_loss: 0.5542 - val_char_3_accuracy: 0.8240 - val_char_3_loss: 0.5747 - val_char_4_accuracy: 0.8440 - val_char_4_loss: 0.5248 - val_char_5_accuracy: 0.8800 - val_char_5_loss: 0.3910 - val_loss: 2.5281\n",
      "Epoch 6/10\n",
      "\u001b[1m141/141\u001b[0m \u001b[32m━━━━━━━━━━━━━━━━━━━━\u001b[0m\u001b[37m\u001b[0m \u001b[1m36s\u001b[0m 252ms/step - char_0_accuracy: 1.0000 - char_0_loss: 3.4998e-04 - char_1_accuracy: 0.8000 - char_1_loss: 0.6008 - char_2_accuracy: 0.7585 - char_2_loss: 0.7150 - char_3_accuracy: 0.7574 - char_3_loss: 0.7211 - char_4_accuracy: 0.7901 - char_4_loss: 0.6449 - char_5_accuracy: 0.8306 - char_5_loss: 0.5147 - loss: 3.1970 - val_char_0_accuracy: 1.0000 - val_char_0_loss: 2.5719e-04 - val_char_1_accuracy: 0.8830 - val_char_1_loss: 0.4042 - val_char_2_accuracy: 0.8460 - val_char_2_loss: 0.4824 - val_char_3_accuracy: 0.8350 - val_char_3_loss: 0.5007 - val_char_4_accuracy: 0.8470 - val_char_4_loss: 0.4689 - val_char_5_accuracy: 0.8940 - val_char_5_loss: 0.3382 - val_loss: 2.2065\n",
      "Epoch 7/10\n",
      "\u001b[1m141/141\u001b[0m \u001b[32m━━━━━━━━━━━━━━━━━━━━\u001b[0m\u001b[37m\u001b[0m \u001b[1m35s\u001b[0m 249ms/step - char_0_accuracy: 1.0000 - char_0_loss: 2.1688e-04 - char_1_accuracy: 0.8186 - char_1_loss: 0.5326 - char_2_accuracy: 0.7874 - char_2_loss: 0.6200 - char_3_accuracy: 0.7842 - char_3_loss: 0.6387 - char_4_accuracy: 0.8113 - char_4_loss: 0.5845 - char_5_accuracy: 0.8434 - char_5_loss: 0.4744 - loss: 2.8504 - val_char_0_accuracy: 1.0000 - val_char_0_loss: 3.3038e-05 - val_char_1_accuracy: 0.9030 - val_char_1_loss: 0.3602 - val_char_2_accuracy: 0.8590 - val_char_2_loss: 0.4525 - val_char_3_accuracy: 0.8550 - val_char_3_loss: 0.4637 - val_char_4_accuracy: 0.8730 - val_char_4_loss: 0.4313 - val_char_5_accuracy: 0.9050 - val_char_5_loss: 0.3081 - val_loss: 2.0254\n",
      "Epoch 8/10\n",
      "\u001b[1m141/141\u001b[0m \u001b[32m━━━━━━━━━━━━━━━━━━━━\u001b[0m\u001b[37m\u001b[0m \u001b[1m35s\u001b[0m 250ms/step - char_0_accuracy: 1.0000 - char_0_loss: 1.2673e-04 - char_1_accuracy: 0.8339 - char_1_loss: 0.4864 - char_2_accuracy: 0.8052 - char_2_loss: 0.5710 - char_3_accuracy: 0.8112 - char_3_loss: 0.5644 - char_4_accuracy: 0.8356 - char_4_loss: 0.5074 - char_5_accuracy: 0.8597 - char_5_loss: 0.4322 - loss: 2.5615 - val_char_0_accuracy: 1.0000 - val_char_0_loss: 2.8626e-04 - val_char_1_accuracy: 0.9020 - val_char_1_loss: 0.3371 - val_char_2_accuracy: 0.8550 - val_char_2_loss: 0.4300 - val_char_3_accuracy: 0.8620 - val_char_3_loss: 0.4437 - val_char_4_accuracy: 0.8670 - val_char_4_loss: 0.4037 - val_char_5_accuracy: 0.9170 - val_char_5_loss: 0.2731 - val_loss: 1.8989\n",
      "Epoch 9/10\n",
      "\u001b[1m141/141\u001b[0m \u001b[32m━━━━━━━━━━━━━━━━━━━━\u001b[0m\u001b[37m\u001b[0m \u001b[1m36s\u001b[0m 254ms/step - char_0_accuracy: 1.0000 - char_0_loss: 7.4031e-05 - char_1_accuracy: 0.8525 - char_1_loss: 0.4426 - char_2_accuracy: 0.8306 - char_2_loss: 0.5007 - char_3_accuracy: 0.8184 - char_3_loss: 0.5240 - char_4_accuracy: 0.8441 - char_4_loss: 0.4737 - char_5_accuracy: 0.8801 - char_5_loss: 0.3713 - loss: 2.3122 - val_char_0_accuracy: 1.0000 - val_char_0_loss: 2.1937e-04 - val_char_1_accuracy: 0.9020 - val_char_1_loss: 0.3236 - val_char_2_accuracy: 0.8750 - val_char_2_loss: 0.3979 - val_char_3_accuracy: 0.8630 - val_char_3_loss: 0.4185 - val_char_4_accuracy: 0.8720 - val_char_4_loss: 0.4026 - val_char_5_accuracy: 0.9120 - val_char_5_loss: 0.2672 - val_loss: 1.8201\n",
      "Epoch 10/10\n",
      "\u001b[1m141/141\u001b[0m \u001b[32m━━━━━━━━━━━━━━━━━━━━\u001b[0m\u001b[37m\u001b[0m \u001b[1m36s\u001b[0m 255ms/step - char_0_accuracy: 1.0000 - char_0_loss: 3.9592e-05 - char_1_accuracy: 0.8560 - char_1_loss: 0.4106 - char_2_accuracy: 0.8325 - char_2_loss: 0.4927 - char_3_accuracy: 0.8380 - char_3_loss: 0.4748 - char_4_accuracy: 0.8527 - char_4_loss: 0.4335 - char_5_accuracy: 0.8855 - char_5_loss: 0.3480 - loss: 2.1596 - val_char_0_accuracy: 1.0000 - val_char_0_loss: 1.4863e-05 - val_char_1_accuracy: 0.9040 - val_char_1_loss: 0.3027 - val_char_2_accuracy: 0.8870 - val_char_2_loss: 0.3721 - val_char_3_accuracy: 0.8640 - val_char_3_loss: 0.4081 - val_char_4_accuracy: 0.8750 - val_char_4_loss: 0.3670 - val_char_5_accuracy: 0.9080 - val_char_5_loss: 0.2671 - val_loss: 1.7284\n"
     ]
    }
   ],
   "source": [
    "history = model.fit(\n",
    "    X, y_onehot,  # Asumimos que y_onehot ya está en formato one-hot\n",
    "    batch_size=64,\n",
    "    epochs=10,\n",
    "    validation_split=0.1\n",
    ")"
   ]
  }
 ],
 "metadata": {
  "kernelspec": {
   "display_name": "Python 3 (ipykernel)",
   "language": "python",
   "name": "python3"
  },
  "language_info": {
   "codemirror_mode": {
    "name": "ipython",
    "version": 3
   },
   "file_extension": ".py",
   "mimetype": "text/x-python",
   "name": "python",
   "nbconvert_exporter": "python",
   "pygments_lexer": "ipython3",
   "version": "3.11.0"
  }
 },
 "nbformat": 4,
 "nbformat_minor": 5
}

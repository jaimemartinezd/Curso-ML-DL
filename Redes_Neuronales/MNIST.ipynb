{
 "cells": [
  {
   "cell_type": "code",
   "execution_count": 7,
   "id": "50b2084e-d90a-4fc0-9ee2-975cabc78772",
   "metadata": {},
   "outputs": [],
   "source": [
    "import tensorflow as tf\n",
    "\n",
    "def modelo_mnist():\n",
    "    inputs = tf.keras.Input(shape=(64,))\n",
    "    x = tf.keras.layers.Dense(16, activation='relu')(inputs)\n",
    "    x = tf.keras.layers.Dense(16, activation='relu')(x)\n",
    "    outputs = tf.keras.layers.Dense(10, activation='softmax')(x)\n",
    "    return tf.keras.Model(inputs=inputs, outputs=outputs, name=\"mnist\")"
   ]
  },
  {
   "cell_type": "code",
   "execution_count": 33,
   "id": "a7fa52f6-3855-4c52-ad32-a63b416ee04c",
   "metadata": {},
   "outputs": [],
   "source": [
    "from sklearn.datasets import load_digits\n",
    "from sklearn.preprocessing import StandardScaler\n",
    "\n",
    "digits = load_digits()\n",
    "X, y = digits.data, digits.target\n",
    "\n",
    "scaler = StandardScaler()\n",
    "X_scaled = scaler.fit_transform(X)\n",
    "\n",
    "from sklearn.model_selection import train_test_split\n",
    "X_train, X_test, y_train, y_test = train_test_split(X_scaled, y, test_size=0.2, random_state=42)"
   ]
  },
  {
   "cell_type": "code",
   "execution_count": 31,
   "id": "3bae7147-03fa-40f4-af9d-405bad75cac0",
   "metadata": {},
   "outputs": [
    {
     "name": "stdout",
     "output_type": "stream",
     "text": [
      "Epoch 1/15\n"
     ]
    },
    {
     "name": "stderr",
     "output_type": "stream",
     "text": [
      "C:\\Users\\Jaime Martínez\\AppData\\Local\\Programs\\Python\\Python311\\Lib\\site-packages\\keras\\src\\backend\\tensorflow\\nn.py:708: UserWarning: \"`sparse_categorical_crossentropy` received `from_logits=True`, but the `output` argument was produced by a Softmax activation and thus does not represent logits. Was this intended?\n",
      "  output, from_logits = _get_logits(\n"
     ]
    },
    {
     "name": "stdout",
     "output_type": "stream",
     "text": [
      "\u001b[1m36/36\u001b[0m \u001b[32m━━━━━━━━━━━━━━━━━━━━\u001b[0m\u001b[37m\u001b[0m \u001b[1m2s\u001b[0m 19ms/step - accuracy: 0.5248 - loss: 1.5085 - val_accuracy: 0.8924 - val_loss: 0.4539\n",
      "Epoch 2/15\n",
      "\u001b[1m36/36\u001b[0m \u001b[32m━━━━━━━━━━━━━━━━━━━━\u001b[0m\u001b[37m\u001b[0m \u001b[1m1s\u001b[0m 14ms/step - accuracy: 0.9225 - loss: 0.2760 - val_accuracy: 0.9306 - val_loss: 0.3320\n",
      "Epoch 3/15\n",
      "\u001b[1m36/36\u001b[0m \u001b[32m━━━━━━━━━━━━━━━━━━━━\u001b[0m\u001b[37m\u001b[0m \u001b[1m1s\u001b[0m 20ms/step - accuracy: 0.9702 - loss: 0.1179 - val_accuracy: 0.9410 - val_loss: 0.3219\n",
      "Epoch 4/15\n",
      "\u001b[1m36/36\u001b[0m \u001b[32m━━━━━━━━━━━━━━━━━━━━\u001b[0m\u001b[37m\u001b[0m \u001b[1m1s\u001b[0m 17ms/step - accuracy: 0.9877 - loss: 0.0603 - val_accuracy: 0.8958 - val_loss: 0.3877\n",
      "Epoch 5/15\n",
      "\u001b[1m36/36\u001b[0m \u001b[32m━━━━━━━━━━━━━━━━━━━━\u001b[0m\u001b[37m\u001b[0m \u001b[1m0s\u001b[0m 9ms/step - accuracy: 0.9908 - loss: 0.0381 - val_accuracy: 0.9375 - val_loss: 0.3533\n",
      "Epoch 6/15\n",
      "\u001b[1m36/36\u001b[0m \u001b[32m━━━━━━━━━━━━━━━━━━━━\u001b[0m\u001b[37m\u001b[0m \u001b[1m0s\u001b[0m 9ms/step - accuracy: 0.9969 - loss: 0.0236 - val_accuracy: 0.9375 - val_loss: 0.4018\n",
      "Epoch 7/15\n",
      "\u001b[1m36/36\u001b[0m \u001b[32m━━━━━━━━━━━━━━━━━━━━\u001b[0m\u001b[37m\u001b[0m \u001b[1m0s\u001b[0m 9ms/step - accuracy: 0.9949 - loss: 0.0233 - val_accuracy: 0.9479 - val_loss: 0.4452\n",
      "Epoch 8/15\n",
      "\u001b[1m36/36\u001b[0m \u001b[32m━━━━━━━━━━━━━━━━━━━━\u001b[0m\u001b[37m\u001b[0m \u001b[1m0s\u001b[0m 9ms/step - accuracy: 0.9990 - loss: 0.0097 - val_accuracy: 0.9479 - val_loss: 0.4509\n",
      "Epoch 9/15\n",
      "\u001b[1m36/36\u001b[0m \u001b[32m━━━━━━━━━━━━━━━━━━━━\u001b[0m\u001b[37m\u001b[0m \u001b[1m1s\u001b[0m 13ms/step - accuracy: 0.9945 - loss: 0.0111 - val_accuracy: 0.9375 - val_loss: 0.5588\n",
      "Epoch 10/15\n",
      "\u001b[1m36/36\u001b[0m \u001b[32m━━━━━━━━━━━━━━━━━━━━\u001b[0m\u001b[37m\u001b[0m \u001b[1m1s\u001b[0m 15ms/step - accuracy: 1.0000 - loss: 0.0033 - val_accuracy: 0.9375 - val_loss: 0.5496\n",
      "Epoch 11/15\n",
      "\u001b[1m36/36\u001b[0m \u001b[32m━━━━━━━━━━━━━━━━━━━━\u001b[0m\u001b[37m\u001b[0m \u001b[1m0s\u001b[0m 9ms/step - accuracy: 1.0000 - loss: 0.0024 - val_accuracy: 0.9375 - val_loss: 0.6091\n",
      "Epoch 12/15\n",
      "\u001b[1m36/36\u001b[0m \u001b[32m━━━━━━━━━━━━━━━━━━━━\u001b[0m\u001b[37m\u001b[0m \u001b[1m0s\u001b[0m 8ms/step - accuracy: 0.9996 - loss: 0.0027 - val_accuracy: 0.9479 - val_loss: 0.5990\n",
      "Epoch 13/15\n",
      "\u001b[1m36/36\u001b[0m \u001b[32m━━━━━━━━━━━━━━━━━━━━\u001b[0m\u001b[37m\u001b[0m \u001b[1m0s\u001b[0m 9ms/step - accuracy: 1.0000 - loss: 0.0012 - val_accuracy: 0.9479 - val_loss: 0.5638\n",
      "Epoch 14/15\n",
      "\u001b[1m36/36\u001b[0m \u001b[32m━━━━━━━━━━━━━━━━━━━━\u001b[0m\u001b[37m\u001b[0m \u001b[1m0s\u001b[0m 10ms/step - accuracy: 1.0000 - loss: 6.8851e-04 - val_accuracy: 0.9444 - val_loss: 0.5906\n",
      "Epoch 15/15\n",
      "\u001b[1m36/36\u001b[0m \u001b[32m━━━━━━━━━━━━━━━━━━━━\u001b[0m\u001b[37m\u001b[0m \u001b[1m1s\u001b[0m 16ms/step - accuracy: 1.0000 - loss: 3.3110e-04 - val_accuracy: 0.9444 - val_loss: 0.5934\n"
     ]
    }
   ],
   "source": [
    "model_mnist = modelo_mnist()\n",
    "model_mnist.compile(\n",
    "    loss=tf.keras.losses.SparseCategoricalCrossentropy(from_logits=True),\n",
    "    optimizer=tf.keras.optimizers.RMSprop(learning_rate=0.01),\n",
    "    metrics=['accuracy']\n",
    ")\n",
    "history = model_mnist.fit(X_train, y_train, epochs=15, validation_split=0.2)"
   ]
  },
  {
   "cell_type": "code",
   "execution_count": 32,
   "id": "90a1e651-5e5a-45dc-b2d9-384cabeb0bb0",
   "metadata": {},
   "outputs": [
    {
     "name": "stdout",
     "output_type": "stream",
     "text": [
      "              precision    recall  f1-score   support\n",
      "\n",
      "           0       1.00      1.00      1.00        33\n",
      "           1       1.00      0.93      0.96        28\n",
      "           2       0.97      1.00      0.99        33\n",
      "           3       0.94      0.97      0.96        34\n",
      "           4       1.00      1.00      1.00        46\n",
      "           5       0.90      0.94      0.92        47\n",
      "           6       0.97      0.97      0.97        35\n",
      "           7       1.00      0.91      0.95        34\n",
      "           8       0.97      0.97      0.97        30\n",
      "           9       0.90      0.93      0.91        40\n",
      "\n",
      "    accuracy                           0.96       360\n",
      "   macro avg       0.97      0.96      0.96       360\n",
      "weighted avg       0.96      0.96      0.96       360\n",
      "\n"
     ]
    }
   ],
   "source": [
    "from sklearn.metrics import classification_report\n",
    "import numpy as np\n",
    "\n",
    "with tf.device('/device:GPU:0'):\n",
    "    y_pred = np.argmax(model_mnist.predict(X_test, verbose=0), axis=1)\n",
    "\n",
    "print(classification_report(y_test, y_pred))"
   ]
  }
 ],
 "metadata": {
  "kernelspec": {
   "display_name": "Python 3 (ipykernel)",
   "language": "python",
   "name": "python3"
  },
  "language_info": {
   "codemirror_mode": {
    "name": "ipython",
    "version": 3
   },
   "file_extension": ".py",
   "mimetype": "text/x-python",
   "name": "python",
   "nbconvert_exporter": "python",
   "pygments_lexer": "ipython3",
   "version": "3.11.0"
  }
 },
 "nbformat": 4,
 "nbformat_minor": 5
}

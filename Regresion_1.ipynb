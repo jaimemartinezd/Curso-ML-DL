{
 "cells": [
  {
   "cell_type": "code",
   "execution_count": 60,
   "id": "be8fe50a-3ff5-4b63-ac54-eb73df07f6e4",
   "metadata": {},
   "outputs": [],
   "source": [
    "import pandas as pd\n",
    "from sklearn.preprocessing import PolynomialFeatures\n",
    "from sklearn.linear_model import LinearRegression\n",
    "from sklearn.model_selection import train_test_split\n",
    "from sklearn.metrics import mean_absolute_error, mean_squared_error, root_mean_squared_error\n",
    "db = pd.read_csv('train.csv')\n",
    "db_test = pd.read_csv('test.csv')\n",
    "\n",
    "X = db.drop(columns=['id', 'y'])\n",
    "y = db['y']\n",
    "X_prueba = db_test.drop(columns=['id'])\n",
    "X_train, X_test, y_train, y_test = train_test_split(X, y, test_size=0.25, random_state=42)\n",
    "\n",
    "poly = PolynomialFeatures(degree=3, include_bias=False).fit(X_train)\n",
    "poly_Xtrain = poly.transform(X_train)\n",
    "elastic = ElasticNet(alpha=0.01, l1_ratio=0.1)\n",
    "elastic.fit(poly_Xtrain, y_train)\n",
    "y_pred = elastic.predict(poly.transform(X_prueba))\n",
    "# print(\"MSE: \", mean_squared_error(y_test, y_pred))"
   ]
  },
  {
   "cell_type": "code",
   "execution_count": 61,
   "id": "04160a89-277e-4782-8e6c-0742b729668f",
   "metadata": {},
   "outputs": [],
   "source": [
    "db_test['y_pred'] = y_pred\n",
    "solution = db_test[['id','y_pred']]\n",
    "solution.to_csv('jaime2.csv', index=False)"
   ]
  }
 ],
 "metadata": {
  "kernelspec": {
   "display_name": "Python 3 (ipykernel)",
   "language": "python",
   "name": "python3"
  },
  "language_info": {
   "codemirror_mode": {
    "name": "ipython",
    "version": 3
   },
   "file_extension": ".py",
   "mimetype": "text/x-python",
   "name": "python",
   "nbconvert_exporter": "python",
   "pygments_lexer": "ipython3",
   "version": "3.11.0"
  }
 },
 "nbformat": 4,
 "nbformat_minor": 5
}
